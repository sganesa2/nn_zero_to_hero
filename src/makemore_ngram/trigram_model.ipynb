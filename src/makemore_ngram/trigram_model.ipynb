{
 "cells": [
  {
   "cell_type": "markdown",
   "id": "a170630c",
   "metadata": {},
   "source": [
    "Exercises:\n",
    "E01: train a trigram language model, i.e. take two characters as an input to predict the 3rd one. Feel free to use either counting or a neural net. Evaluate the loss; Did it improve over a bigram model?\n",
    "E02: split up the dataset randomly into 80% train set, 10% dev set, 10% test set. Train the bigram and trigram models only on the training set. Evaluate them on dev and test splits. What can you see?\n",
    "E03: use the dev set to tune the strength of smoothing (or regularization) for the trigram model - i.e. try many possibilities and see which one works best based on the dev set loss. What patterns can you see in the train and dev set loss as you tune this strength? Take the best setting of the smoothing and evaluate on the test set once and at the end. How good of a loss do you achieve?\n",
    "E04: we saw that our 1-hot vectors merely select a row of W, so producing these vectors explicitly feels wasteful. Can you delete our use of F.one_hot in favor of simply indexing into rows of W?\n",
    "E05: look up and use F.cross_entropy instead. You should achieve the same result. Can you think of why we'd prefer to use F.cross_entropy instead?\n",
    "E06: meta-exercise! Think of a fun/interesting exercise and complete it."
   ]
  },
  {
   "cell_type": "code",
   "execution_count": 22,
   "id": "a7b0346d",
   "metadata": {},
   "outputs": [],
   "source": [
    "from trigram_model.dataset import Dataset, itos\n",
    "dataset_obj = Dataset(\"dataset.txt\", 156890, 19611,19611)\n",
    "datset = dataset_obj.get_complete_dataset()\n",
    "xenc, labels = dataset_obj.enc_train_set"
   ]
  },
  {
   "cell_type": "code",
   "execution_count": 2,
   "id": "fae92f29",
   "metadata": {},
   "outputs": [],
   "source": [
    "from trigram_model.model import Trigram\n",
    "trigram_model = Trigram(27*27,27)"
   ]
  },
  {
   "cell_type": "code",
   "execution_count": 3,
   "id": "99d94372",
   "metadata": {},
   "outputs": [],
   "source": [
    "\n",
    "import torch\n",
    "import torch.nn.functional as F\n",
    "logits = trigram_model.forward(xenc)\n",
    "cross_entropy_loss = F.cross_entropy(logits, labels)"
   ]
  },
  {
   "cell_type": "code",
   "execution_count": 4,
   "id": "a4946873",
   "metadata": {},
   "outputs": [
    {
     "data": {
      "text/plain": [
       "tensor(3.7707, grad_fn=<NllLossBackward0>)"
      ]
     },
     "execution_count": 4,
     "metadata": {},
     "output_type": "execute_result"
    }
   ],
   "source": [
    "cross_entropy_loss"
   ]
  },
  {
   "cell_type": "code",
   "execution_count": 5,
   "id": "2d0c9305",
   "metadata": {},
   "outputs": [
    {
     "name": "stderr",
     "output_type": "stream",
     "text": [
      "/Users/srini_x62/Dropbox/Mac/Documents/github_repos/nn_zero_to_hero/src/makemore_ngram/trigram_model/model.py:22: UserWarning: To copy construct from a tensor, it is recommended to use sourceTensor.detach().clone() or sourceTensor.detach().clone().requires_grad_(True), rather than torch.tensor(sourceTensor).\n",
      "  self.cross_entropy_loss = F.cross_entropy(logits, torch.tensor(labels), label_smoothing=0.1)\n"
     ]
    }
   ],
   "source": [
    "trigram_model.gradient_descent(xenc, labels, 2000)"
   ]
  },
  {
   "cell_type": "code",
   "execution_count": 6,
   "id": "dddc0eed",
   "metadata": {},
   "outputs": [
    {
     "data": {
      "text/plain": [
       "tensor(2.4616, grad_fn=<AddBackward0>)"
      ]
     },
     "execution_count": 6,
     "metadata": {},
     "output_type": "execute_result"
    }
   ],
   "source": [
    "trigram_model.cross_entropy_loss"
   ]
  },
  {
   "cell_type": "code",
   "execution_count": null,
   "id": "4c3af9a9",
   "metadata": {},
   "outputs": [
    {
     "name": "stdout",
     "output_type": "stream",
     "text": [
      "anemamaip\n",
      "ancaswihaishnaharadwyomasisamhunegikaalucdalozozovimamehelemimanadapaninvlamalyavemyoyelelozedremanakeqjalocilabryesasaarariselavevigavirishachabisaluwemisaninaravzalenymadenvfnomam\n",
      "alamatadyabmchwanloleluzarivasakevirohualanireducoquy\n",
      "aloutreaviisozyzahekalevlamaaucanitalavcobriruddeuelaskxchisakaliraahalujelemgetgalablocadelenamiowitzdwajogevezyozemayucivprolewelanaaleuyejmotrezaidalenviroitanijelaljamomantiolaralalsizasoladazanalanemevzaskarixyelugivioianyamanolucolaqpataroyoriegolujerooatazapbrevncavutvemerolaivajevilishamozakemalilala\n",
      "avpasisanolimarapasadaarhteimkavjabrut\n"
     ]
    }
   ],
   "source": [
    "for _ in range(5):\n",
    "    c = \"\"\n",
    "    idx = torch.multinomial(torch.rand(27), 1).item()\n",
    "    word = itos()[idx]\n",
    "    while c!=\".\":\n",
    "        word+=c\n",
    "        #forward pass\n",
    "        x_enc = F.one_hot(torch.tensor(idx), num_classes=27*27).float()\n",
    "        logits = trigram_model.forward(x_enc)\n",
    "        dim = 1 if len(logits.shape)>1 else 0\n",
    "        p = logits.softmax(dim=dim)\n",
    "\n",
    "        idx = torch.multinomial(p, 1).item()\n",
    "        c = itos()[idx]\n",
    "    print(word)"
   ]
  },
  {
   "cell_type": "code",
   "execution_count": null,
   "id": "9aad26ad",
   "metadata": {},
   "outputs": [],
   "source": []
  },
  {
   "cell_type": "code",
   "execution_count": null,
   "id": "65308df2",
   "metadata": {},
   "outputs": [],
   "source": []
  }
 ],
 "metadata": {
  "kernelspec": {
   "display_name": ".venv",
   "language": "python",
   "name": "python3"
  },
  "language_info": {
   "codemirror_mode": {
    "name": "ipython",
    "version": 3
   },
   "file_extension": ".py",
   "mimetype": "text/x-python",
   "name": "python",
   "nbconvert_exporter": "python",
   "pygments_lexer": "ipython3",
   "version": "3.11.9"
  }
 },
 "nbformat": 4,
 "nbformat_minor": 5
}
